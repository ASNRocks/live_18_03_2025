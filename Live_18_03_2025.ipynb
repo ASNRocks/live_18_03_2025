{
 "cells": [
  {
   "cell_type": "code",
   "execution_count": null,
   "id": "41c7acf0",
   "metadata": {},
   "outputs": [],
   "source": [
    "#carregando bibliotecas\n",
    "import os\n",
    "import pandas as pd\n",
    "import matplotlib.pyplot as plt\n",
    "import seaborn as sns\n",
    "import numpy as np"
   ]
  },
  {
   "cell_type": "code",
   "execution_count": null,
   "id": "f2246e80",
   "metadata": {},
   "outputs": [],
   "source": [
    "# Diretório onde estão os arquivos\n",
    "pasta_arquivos = \"dados\" "
   ]
  },
  {
   "cell_type": "code",
   "execution_count": null,
   "id": "ab54252d",
   "metadata": {},
   "outputs": [],
   "source": [
    "# Arquivos dos Extrato de doações\n",
    "\n",
    "# Listar todos os arquivos que seguem o mesmo padrão\n",
    "arquivos = [f for f in os.listdir(pasta_arquivos) if f.startswith(\"Extrato_31_\") and f.endswith(\".xlsx\")]\n",
    "\n",
    "# Lista para armazenar os DataFrames\n",
    "dfs = []\n",
    "\n",
    "# Ler cada arquivo e adicioná-lo à lista\n",
    "total_arquivos = len(arquivos)\n",
    "print(f\"Encontrados {total_arquivos} arquivos para consolidar...\")\n",
    "for arquivo in arquivos:\n",
    "    caminho_arquivo = os.path.join(pasta_arquivos, arquivo)\n",
    "    df = pd.read_excel(caminho_arquivo)  # Lendo o arquivo\n",
    "    df[\"Fonte\"] = arquivo  # Adicionar coluna de origem para referência\n",
    "    dfs.append(df)  # Adicionando à lista\n",
    "\n",
    "# Concatenar todos os DataFrames\n",
    "consolidado_arrecadado = pd.concat(dfs, ignore_index=True)\n",
    "#transformando data em data\n",
    "consolidado_arrecadado[\"Data\"] = pd.to_datetime(consolidado_arrecadado[\"Data\"], errors=\"coerce\", dayfirst=True)\n",
    "#criando mes ano\n",
    "consolidado_arrecadado[\"AnoMes\"] = consolidado_arrecadado[\"Data\"].dt.to_period(\"M\")\n",
    "#criando ano\n",
    "consolidado_arrecadado[\"Ano\"] = consolidado_arrecadado[\"Data\"].dt.year\n",
    "\n",
    "consolidado_arrecadado"
   ]
  },
  {
   "cell_type": "code",
   "execution_count": null,
   "id": "eb6ecc35",
   "metadata": {},
   "outputs": [],
   "source": [
    "# Caminho do arquivo Excel\n",
    "arquivo_custos = \"dados\\Custos_mensal.xlsx\" \n",
    "\n",
    "# Carregar todas as abas do arquivo\n",
    "xls = pd.ExcelFile(arquivo_custos)\n",
    "\n",
    "# Filtrar apenas as abas que seguem o padrão 'gastos_mes_ano'\n",
    "abas_validas = [sheet for sheet in xls.sheet_names if sheet.startswith(\"gastos_\")]\n",
    "\n",
    "# Lista para armazenar os DataFrames\n",
    "dfs = []\n",
    "\n",
    "print(f\"Encontradas {len(abas_validas)} abas para consolidar...\")\n",
    "for aba in abas_validas:\n",
    "    df = pd.read_excel(xls, sheet_name=aba, usecols=[0, 1, 2, 3, 4], header=0)  # Lendo cada aba\n",
    "    df[\"Fonte\"] = aba  # Adicionar coluna de origem para referência\n",
    "    dfs.append(df)\n",
    "\n",
    "# Concatenar todas as abas\n",
    "consolidado_custos = pd.concat(dfs, ignore_index=True)\n",
    "\n",
    "#transformando data em data\n",
    "consolidado_custos[\"Data\"] = pd.to_datetime(consolidado_custos[\"Data\"], errors=\"coerce\", dayfirst=True)\n",
    "#criando mes ano\n",
    "consolidado_custos[\"AnoMes\"] = consolidado_custos[\"Data\"].dt.to_period(\"M\")\n",
    "#criando ano\n",
    "consolidado_custos[\"Ano\"] = consolidado_custos[\"Data\"].dt.year\n",
    "\n",
    "consolidado_custos"
   ]
  },
  {
   "cell_type": "code",
   "execution_count": null,
   "id": "9157cde2",
   "metadata": {},
   "outputs": [],
   "source": [
    "# Caminho do arquivo Excel\n",
    "arquivo_marmitas = \"dados\\Descricao_Marmitas.xlsx\"  \n",
    "descricao_marmitas = pd.read_excel(arquivo_marmitas)\n",
    "\n",
    "# Remover linhas onde as colunas principais estão em branco\n",
    "descricao_marmitas = descricao_marmitas.dropna(subset=[\"Data\", \"Quantidade\", \"Cardápio\"])\n",
    "\n",
    "#Substituindo NaN por 0 nas quantidades de alimentos\n",
    "descricao_marmitas.iloc[:, 4:11] = descricao_marmitas.iloc[:, 4:11].fillna(0)\n",
    "\n",
    "#transformando data em data\n",
    "descricao_marmitas[\"Data\"] = pd.to_datetime(descricao_marmitas[\"Data\"], errors=\"coerce\", dayfirst=True)\n",
    "#criando mes ano\n",
    "descricao_marmitas[\"AnoMes\"] = descricao_marmitas[\"Data\"].dt.to_period(\"M\")\n",
    "#criando ano\n",
    "descricao_marmitas[\"Ano\"] = descricao_marmitas[\"Data\"].dt.year\n",
    "\n",
    "descricao_marmitas"
   ]
  },
  {
   "cell_type": "markdown",
   "id": "9a1b7e7e",
   "metadata": {},
   "source": [
    "## Explorar base  consolidado_arrecadado:\n",
    "\n",
    "Validando os dados\n",
    "1. As arrecadações batem, mensalmente (isso quer dizer que tem que somar por mês) com o relatório disponível? \n",
    "\n",
    "Explorando um pouco\n",
    "1. Qual a menor e maior data?\n",
    "2. Quantos doadores distintos existem?\n",
    "3. Quantos doadores distintos existem por mês? Existe algum comportamento ao longo do tempo? (gráfico de linha)\n",
    "4. Qual a distribuição do valores doados de uma forma geral? (descritiva, histograma e boxplot)\n",
    "5. Como é a média de valor doado por mês?  Existe algum comportamento ao longo do tempo? (gráfico de linha)\n",
    "6. Quem são os doadores que mais doaram de forma geral? (somando todas as doações)\n",
    "7. Quem são os doadores que mais doaram em quantidade de vezes? (quantidade de doações)\n",
    "8. Existem doadores que fazem tempo que não doam? (ordenar do maior para menor)\n",
    "9. Quais são as formas de pagamento e suas frequências?\n",
    "10. Como está a soma de arrecadações por mês? (gráfico de linhas)"
   ]
  },
  {
   "cell_type": "code",
   "execution_count": null,
   "id": "ce0988fd",
   "metadata": {},
   "outputs": [],
   "source": [
    "#Validando os dados\n",
    "#As arrecadações batem, mensalmente (isso quer dizer que tem que somar por mês) com o relatório disponível?\n",
    "consolidado_arrecadado_mes_ano = consolidado_arrecadado.groupby(\"AnoMes\")[\"Valor\"].sum().reset_index()\n",
    "consolidado_arrecadado_mes_ano"
   ]
  },
  {
   "cell_type": "code",
   "execution_count": null,
   "id": "14f5b7fe",
   "metadata": {},
   "outputs": [],
   "source": [
    "#1. Qual a menor e maior data?\n",
    "menor_data = consolidado_arrecadado[\"Data\"].min()\n",
    "maior_data = consolidado_arrecadado[\"Data\"].max()\n",
    "\n",
    "print(f\"Menor data: {menor_data}, Maior data: {maior_data}\")"
   ]
  },
  {
   "cell_type": "code",
   "execution_count": null,
   "id": "fa2a2e6d",
   "metadata": {},
   "outputs": [],
   "source": [
    "#2. Quantos doadores distintos existem?\n",
    "doadores_distintos = consolidado_arrecadado[\"ID\"].nunique()\n",
    "print(f\"Total de doadores distintos: {doadores_distintos}\")"
   ]
  },
  {
   "cell_type": "code",
   "execution_count": null,
   "id": "8c50186d",
   "metadata": {},
   "outputs": [],
   "source": [
    "#3. Quantos doadores distintos existem por mês? Existe algum comportamento ao longo do tempo? (gráfico de linha)\n",
    "doadores_por_mes = consolidado_arrecadado.groupby(\"AnoMes\")[\"ID\"].nunique().reset_index()\n",
    "\n",
    "plt.figure(figsize=(10, 5))\n",
    "plt.plot(doadores_por_mes[\"AnoMes\"].astype(str), doadores_por_mes[\"ID\"], marker='o', linestyle='-')\n",
    "plt.xticks(rotation=90)\n",
    "plt.xlabel(\"Ano-Mês\")\n",
    "plt.ylabel(\"Doadores distintos\")\n",
    "plt.title(\"Quantidade de doadores distintos ao longo do tempo\")\n",
    "plt.grid(True)\n",
    "plt.show()\n"
   ]
  },
  {
   "cell_type": "code",
   "execution_count": null,
   "id": "2bf82ede",
   "metadata": {},
   "outputs": [],
   "source": [
    "#4. Qual a distribuição do valores doados de uma forma geral? (descritiva, histograma e boxplot)\n",
    "\n",
    "# Estatísticas descritivas\n",
    "print(consolidado_arrecadado[\"Valor\"].describe())\n",
    "\n",
    "# Criando a figura e os eixos compartilhados\n",
    "fig, ax = plt.subplots(2, 1, figsize=(10, 8), gridspec_kw={\"height_ratios\": [3, 1]}, sharex=True)\n",
    "\n",
    "# Histograma\n",
    "sns.histplot(consolidado_arrecadado[\"Valor\"], bins=30, kde=True, ax=ax[0])\n",
    "ax[0].set_ylabel(\"Frequência\")\n",
    "ax[0].set_title(\"Distribuição dos Valores Doados\")\n",
    "\n",
    "# Boxplot com pontos individuais (stripplot)\n",
    "sns.boxplot(x=consolidado_arrecadado[\"Valor\"], ax=ax[1], showfliers=False)\n",
    "sns.stripplot(x=consolidado_arrecadado[\"Valor\"], ax=ax[1], color=\"black\", alpha=0.3, jitter=True, size=3)\n",
    "ax[1].set_xlabel(\"Valor da Doação\")\n",
    "ax[1].set_ylabel(\"\")\n",
    "\n",
    "# Ajuste de layout\n",
    "plt.tight_layout()\n",
    "plt.show()\n",
    "\n"
   ]
  },
  {
   "cell_type": "code",
   "execution_count": null,
   "id": "e3623cd6",
   "metadata": {},
   "outputs": [],
   "source": [
    "#5. Como é a média de valor doado por mês?  Existe algum comportamento ao longo do tempo? (gráfico de linha)\n",
    "media_valor_mes = consolidado_arrecadado.groupby(\"AnoMes\")[\"Valor\"].mean().reset_index()\n",
    "\n",
    "plt.figure(figsize=(10, 5))\n",
    "plt.plot(media_valor_mes[\"AnoMes\"].astype(str), media_valor_mes[\"Valor\"], marker='o', linestyle='-')\n",
    "plt.xticks(rotation=90)\n",
    "plt.xlabel(\"Ano-Mês\")\n",
    "plt.ylabel(\"Média do Valor Doadado\")\n",
    "plt.title(\"Evolução da Média de Doações ao Longo do Tempo\")\n",
    "plt.grid(True)\n",
    "plt.show()\n"
   ]
  },
  {
   "cell_type": "code",
   "execution_count": null,
   "id": "047c0887",
   "metadata": {},
   "outputs": [],
   "source": [
    "#6. Quem são os doadores que mais doaram de forma geral? (somando todas as doações)\n",
    "top_doadores = consolidado_arrecadado.groupby(\"ID\")[\"Valor\"].sum().reset_index()\n",
    "top_doadores = top_doadores.sort_values(by=\"Valor\", ascending=False)\n",
    "top_doadores"
   ]
  },
  {
   "cell_type": "code",
   "execution_count": null,
   "id": "143ec684",
   "metadata": {},
   "outputs": [],
   "source": [
    "#7. Quem são os doadores que mais doaram em quantidade de vezes? (quantidade de doações)\n",
    "top_doadores = consolidado_arrecadado.groupby(\"ID\").agg(\n",
    "    Quantidade_Doacoes=(\"Valor\", \"count\"),\n",
    "    Total_Valor_Doado=(\"Valor\", \"sum\")\n",
    ").reset_index()\n",
    "\n",
    "# Ordenar pelos maiores valores doados\n",
    "top_doadores = top_doadores.sort_values(by=\"Total_Valor_Doado\", ascending=False)\n",
    "top_doadores.head(40)"
   ]
  },
  {
   "cell_type": "code",
   "execution_count": null,
   "id": "eae9f9ae",
   "metadata": {},
   "outputs": [],
   "source": [
    "#8. Existem doadores que fazem tempo que não doam? (ordenar do maior para menor)\n",
    "# Calcular a última doação de cada doador\n",
    "ultima_doacao = consolidado_arrecadado.groupby(\"ID\")[\"Data\"].max().reset_index()\n",
    "\n",
    "# Calcular a diferença em meses da última doação para hoje\n",
    "hoje = pd.to_datetime(\"today\")\n",
    "ultima_doacao[\"Meses_Desde_Ultima\"] = (hoje.year - ultima_doacao[\"Data\"].dt.year) * 12 + (hoje.month - ultima_doacao[\"Data\"].dt.month)\n",
    "\n",
    "# Ordenar pelos doadores que estão há mais tempo sem doar\n",
    "ultima_doacao = ultima_doacao.sort_values(by=\"Meses_Desde_Ultima\", ascending=False)\n",
    "ultima_doacao"
   ]
  },
  {
   "cell_type": "code",
   "execution_count": null,
   "id": "7c29ef17",
   "metadata": {},
   "outputs": [],
   "source": [
    "#9. Quais são as formas de pagamento e suas frequências?\n",
    "formas_pagamento = consolidado_arrecadado[\"Forma_Pagamento\"].value_counts().reset_index()\n",
    "formas_pagamento.columns = [\"Forma_Pagamento\", \"Frequência\"]\n",
    "formas_pagamento"
   ]
  },
  {
   "cell_type": "code",
   "execution_count": null,
   "id": "e22cde7e",
   "metadata": {},
   "outputs": [],
   "source": [
    "#10. Como está a soma de arrecadações por mês? (gráfico de linhas)\n",
    "consolidado_arrecadado_mes_ano\n",
    "plt.figure(figsize=(10, 5))\n",
    "plt.plot(consolidado_arrecadado_mes_ano[\"AnoMes\"].astype(str), consolidado_arrecadado_mes_ano[\"Valor\"], marker='o', linestyle='-')\n",
    "plt.xticks(rotation=90)\n",
    "plt.xlabel(\"Ano-Mês\")\n",
    "plt.ylabel(\"Total Arrecadado\")\n",
    "plt.title(\"Evolução da Arrecadação Mensal\")\n",
    "plt.grid(True)\n",
    "plt.show()\n"
   ]
  },
  {
   "cell_type": "code",
   "execution_count": null,
   "id": "f3328518",
   "metadata": {},
   "outputs": [],
   "source": [
    "#para observar melhor, colocando os 3 gráficos juntos\n",
    "\n",
    "# Definindo as datas onde queremos as linhas verticais\n",
    "linhas_verticais = [\"2021-06\", \"2021-09\", \"2023-01\", \"2024-02\"]\n",
    "\n",
    "fig, axes = plt.subplots(3, 1, figsize=(12, 15), sharex=True)\n",
    "\n",
    "# 1. Evolução da Arrecadação Mensal\n",
    "axes[0].plot(consolidado_arrecadado_mes_ano[\"AnoMes\"].astype(str), \n",
    "             consolidado_arrecadado_mes_ano[\"Valor\"], \n",
    "             marker='o', linestyle='-')\n",
    "axes[0].set_ylabel(\"Total Arrecadado\")\n",
    "axes[0].set_title(\"Evolução da Arrecadação Mensal\")\n",
    "axes[0].grid(True)\n",
    "\n",
    "# 2. Evolução da Média de Doações ao Longo do Tempo\n",
    "axes[1].plot(media_valor_mes[\"AnoMes\"].astype(str), \n",
    "             media_valor_mes[\"Valor\"], \n",
    "             marker='o', linestyle='-')\n",
    "axes[1].set_ylabel(\"Média do Valor Doado\")\n",
    "axes[1].set_title(\"Evolução da Média de Doações ao Longo do Tempo\")  # CORRIGIDO\n",
    "axes[1].grid(True)\n",
    "\n",
    "# 3. Quantidade de Doadores Distintos ao Longo do Tempo\n",
    "axes[2].plot(doadores_por_mes[\"AnoMes\"].astype(str), \n",
    "             doadores_por_mes[\"ID\"], \n",
    "             marker='o', linestyle='-')\n",
    "axes[2].set_ylabel(\"Doadores Distintos\")\n",
    "axes[2].set_title(\"Quantidade de Doadores Distintos ao Longo do Tempo\")\n",
    "axes[2].set_xlabel(\"Ano-Mês\")\n",
    "axes[2].grid(True)\n",
    "\n",
    "# Adicionando linhas verticais nos três gráficos\n",
    "for ax in axes:\n",
    "    for linha in linhas_verticais:\n",
    "        ax.axvline(x=linha, color='r', linestyle='--', alpha=0.7)\n",
    "    ax.legend()\n",
    "\n",
    "plt.xticks(rotation=90)\n",
    "plt.tight_layout()\n",
    "plt.show()\n"
   ]
  },
  {
   "cell_type": "code",
   "execution_count": null,
   "id": "07064f89",
   "metadata": {},
   "outputs": [],
   "source": [
    "#qual o valor arrecadado no total?\n",
    "total_arrecadado = consolidado_arrecadado[\"Valor\"].sum()\n",
    "print(f\"Total arrecadado: {total_arrecadado}\")"
   ]
  },
  {
   "cell_type": "markdown",
   "id": "b8f81392",
   "metadata": {},
   "source": [
    "## Explorar base  consolidado_gastos\n",
    "\n",
    "Validando os dados\n",
    "1. Os gastos batem, mensalmente (isso quer dizer que tem que somar por mês) com o relatório disponível? \n",
    "\n",
    "Explorando um pouco\n",
    "1. Qual a menor e maior data?\n",
    "2. Quantos tipos de gastos distintos existem e suas qtdes e soma de valores?\n",
    "3. Quantos locais de gastos distintos existem e suas qtdes e soma de valores?\n",
    "4. Qual a distribuição do valores doados de uma forma geral? (descritiva, histograma e boxplot)\n",
    "5. Como é a soma de valor gasto por mês?  Existe algum comportamento ao longo do tempo? (gráfico de linha)"
   ]
  }
 ],
 "metadata": {
  "kernelspec": {
   "display_name": "Python 3 (ipykernel)",
   "language": "python",
   "name": "python3"
  },
  "language_info": {
   "codemirror_mode": {
    "name": "ipython",
    "version": 3
   },
   "file_extension": ".py",
   "mimetype": "text/x-python",
   "name": "python",
   "nbconvert_exporter": "python",
   "pygments_lexer": "ipython3",
   "version": "3.9.13"
  }
 },
 "nbformat": 4,
 "nbformat_minor": 5
}
